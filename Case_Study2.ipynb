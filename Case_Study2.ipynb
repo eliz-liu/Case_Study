{
  "nbformat": 4,
  "nbformat_minor": 0,
  "metadata": {
    "colab": {
      "name": "Case_Study2.ipynb",
      "provenance": []
    },
    "kernelspec": {
      "name": "python3",
      "display_name": "Python 3"
    },
    "language_info": {
      "name": "python"
    }
  },
  "cells": [
    {
      "cell_type": "markdown",
      "source": [
        "**Case Study #2**"
      ],
      "metadata": {
        "id": "1FicIyfEqv9B"
      }
    },
    {
      "cell_type": "code",
      "execution_count": null,
      "metadata": {
        "id": "HJ5sr4v1AbdK"
      },
      "outputs": [],
      "source": [
        "import pandas as pd\n",
        "import matplotlib.pyplot as plt\n",
        "import numpy as np"
      ]
    },
    {
      "cell_type": "code",
      "source": [
        "df = pd.read_csv(r'/content/drive/MyDrive/casestudy.csv', index_col=0)\n",
        "df.columns=['customer_email','net_revenue','year']"
      ],
      "metadata": {
        "id": "Omdoh5bFA7_6"
      },
      "execution_count": null,
      "outputs": []
    },
    {
      "cell_type": "code",
      "source": [
        "customers_2015 = df[df.year==2015]\n",
        "customers_2016 = df[df.year==2016]\n",
        "customers_2017 = df[df.year==2017]"
      ],
      "metadata": {
        "id": "wandK0APQTgz"
      },
      "execution_count": null,
      "outputs": []
    },
    {
      "cell_type": "code",
      "source": [
        "customers_2015_unique = set(customers_2015.customer_email)\n",
        "customers_2016_unique = set(customers_2016.customer_email)\n",
        "customers_2017_unique = set(customers_2017.customer_email)"
      ],
      "metadata": {
        "id": "3xWqU0fiRujl"
      },
      "execution_count": null,
      "outputs": []
    },
    {
      "cell_type": "code",
      "source": [
        "total_revenue_current_year = customers_2017.net_revenue.sum()\n",
        "print(\"Total Revenue for the Current Year: \", total_revenue_current_year)"
      ],
      "metadata": {
        "colab": {
          "base_uri": "https://localhost:8080/"
        },
        "id": "xnHz4JMEB1oP",
        "outputId": "de5d2dc5-9075-400d-e828-00671036e9d7"
      },
      "execution_count": null,
      "outputs": [
        {
          "output_type": "stream",
          "name": "stdout",
          "text": [
            "Total Revenue for the Current Year:  31417495.030000016\n"
          ]
        }
      ]
    },
    {
      "cell_type": "code",
      "source": [
        "new_customers = customers_2017_unique - customers_2016_unique\n",
        "new_customers_2017 = customers_2017.loc[customers_2017.customer_email.isin(new_customers)]\n",
        "print('New Customer Revenue: ', new_customers_2017.net_revenue.sum())"
      ],
      "metadata": {
        "colab": {
          "base_uri": "https://localhost:8080/"
        },
        "id": "9JsTT-9WDklm",
        "outputId": "139a8581-9719-4f4f-cd74-e026641ca524"
      },
      "execution_count": null,
      "outputs": [
        {
          "output_type": "stream",
          "name": "stdout",
          "text": [
            "New Customer Revenue:  28776235.039999995\n"
          ]
        }
      ]
    },
    {
      "cell_type": "code",
      "source": [
        "existing_customers1 = customers_2015_unique & customers_2016_unique \n",
        "existing_customers2 = customers_2016_unique & customers_2017_unique\n",
        "existing_customers_2017 = customers_2017[customers_2017.customer_email.isin(existing_customers2)]\n",
        "existing_customers_2016 = customers_2016[customers_2016.customer_email.isin(existing_customers1)]\n",
        "print('Existing Customer Growth: ', existing_customers_2017.net_revenue.sum()-existing_customers_2016.net_revenue.sum())"
      ],
      "metadata": {
        "colab": {
          "base_uri": "https://localhost:8080/"
        },
        "id": "Mr30BCHhMveJ",
        "outputId": "5322b94a-12ae-446a-fd18-e4d10b5cc404"
      },
      "execution_count": null,
      "outputs": [
        {
          "output_type": "stream",
          "name": "stdout",
          "text": [
            "Existing Customer Growth:  -4844192.59\n"
          ]
        }
      ]
    },
    {
      "cell_type": "code",
      "source": [
        "loss_2015_2016 = customers_2015_unique - customers_2016_unique\n",
        "loss_2016_2017 = customers_2016_unique - customers_2017_unique\n",
        "loss_customers_1 = customers_2015[customers_2015.customer_email.isin(loss_2015_2016)]\n",
        "loss_customers_2 = customers_2016[customers_2016.customer_email.isin(loss_2016_2017)]\n",
        "print('Revenue lost from attrition: ', loss_customers_1.net_revenue.sum() + loss_customers_2.net_revenue.sum())"
      ],
      "metadata": {
        "colab": {
          "base_uri": "https://localhost:8080/"
        },
        "id": "CdJoRiSMNM5X",
        "outputId": "40b41bed-1a52-467a-fc9e-3c07e3b6abb2"
      },
      "execution_count": null,
      "outputs": [
        {
          "output_type": "stream",
          "name": "stdout",
          "text": [
            "Revenue lost from attrition:  44681927.010000005\n"
          ]
        }
      ]
    },
    {
      "cell_type": "code",
      "source": [
        "print('Existing Customer Revenue Current Year: ', existing_customers_2017.net_revenue.sum())"
      ],
      "metadata": {
        "colab": {
          "base_uri": "https://localhost:8080/"
        },
        "id": "lHOjRu68jgeR",
        "outputId": "7607ad18-937f-4974-99af-ce0ae93c518c"
      },
      "execution_count": null,
      "outputs": [
        {
          "output_type": "stream",
          "name": "stdout",
          "text": [
            "Existing Customer Revenue Current Year:  2641259.99\n"
          ]
        }
      ]
    },
    {
      "cell_type": "code",
      "source": [
        "print('Existing Customer Revenue Prior Year: ', existing_customers_2016.net_revenue.sum())"
      ],
      "metadata": {
        "colab": {
          "base_uri": "https://localhost:8080/"
        },
        "id": "zT_A6wX3jzFz",
        "outputId": "7945fe0b-9577-4135-b6a7-3cad3f72af57"
      },
      "execution_count": null,
      "outputs": [
        {
          "output_type": "stream",
          "name": "stdout",
          "text": [
            "Existing Customer Revenue Prior Year:  7485452.58\n"
          ]
        }
      ]
    },
    {
      "cell_type": "code",
      "source": [
        "print('Total Customers Current Year: ', len(customers_2017_unique))"
      ],
      "metadata": {
        "colab": {
          "base_uri": "https://localhost:8080/"
        },
        "id": "pMrK4ocGmveS",
        "outputId": "2fbcecb0-87d7-4ef0-96e4-9a871d6dcb01"
      },
      "execution_count": null,
      "outputs": [
        {
          "output_type": "stream",
          "name": "stdout",
          "text": [
            "Total Customers Current Year:  249987\n"
          ]
        }
      ]
    },
    {
      "cell_type": "code",
      "source": [
        "print('Total Customers Previous Year: ', len(customers_2016_unique))"
      ],
      "metadata": {
        "colab": {
          "base_uri": "https://localhost:8080/"
        },
        "id": "lMo37PwPm7yN",
        "outputId": "42ecb9d6-02cb-4a26-f0cf-0ca959fc380c"
      },
      "execution_count": null,
      "outputs": [
        {
          "output_type": "stream",
          "name": "stdout",
          "text": [
            "Total Customers Previous Year:  204646\n"
          ]
        }
      ]
    },
    {
      "cell_type": "code",
      "source": [
        "new_customers = customers_2015_unique ^ customers_2016_unique ^ customers_2017_unique\n",
        "print('New Customers: ', len(new_customers))"
      ],
      "metadata": {
        "colab": {
          "base_uri": "https://localhost:8080/"
        },
        "id": "o4U-94VTnGlj",
        "outputId": "fb29055e-5241-4c46-e161-89a7a4718423"
      },
      "execution_count": 310,
      "outputs": [
        {
          "output_type": "stream",
          "name": "stdout",
          "text": [
            "New Customers:  535633\n"
          ]
        }
      ]
    },
    {
      "cell_type": "code",
      "source": [
        "print('Lost Customers: ', len(loss_customers_1)+len(loss_customers_2))"
      ],
      "metadata": {
        "colab": {
          "base_uri": "https://localhost:8080/"
        },
        "id": "EY9ePerbnpj2",
        "outputId": "2013343c-7777-432b-aba2-5454b32a4cdc"
      },
      "execution_count": null,
      "outputs": [
        {
          "output_type": "stream",
          "name": "stdout",
          "text": [
            "Lost Customers:  355397\n"
          ]
        }
      ]
    },
    {
      "cell_type": "code",
      "source": [
        "new_customers1 = customers_2016_unique - customers_2015_unique\n",
        "new_customers2 = customers_2017_unique - customers_2016_unique\n",
        "new_customers_2016 = customers_2016.loc[customers_2016.customer_email.isin(new_customers1)]\n",
        "new_customers_2017 = customers_2017.loc[customers_2017.customer_email.isin(new_customers2)]\n",
        "\n",
        "loss_2015_2016 = customers_2015_unique - customers_2016_unique\n",
        "loss_2016_2017 = customers_2016_unique - customers_2017_unique\n",
        "loss_customers_1 = customers_2015[customers_2015.customer_email.isin(loss_2015_2016)]\n",
        "loss_customers_2 = customers_2016[customers_2016.customer_email.isin(loss_2016_2017)]\n",
        "\n",
        "\n",
        "existing_customers1 = customers_2015_unique & customers_2016_unique \n",
        "existing_customers2 = customers_2016_unique & customers_2017_unique\n",
        "existing_customers_2017 = customers_2017[customers_2017.customer_email.isin(existing_customers2)]\n",
        "existing_customers_2016 = customers_2016[customers_2016.customer_email.isin(existing_customers1)]\n"
      ],
      "metadata": {
        "id": "e5cXDZF8qiDG"
      },
      "execution_count": 317,
      "outputs": []
    },
    {
      "cell_type": "code",
      "source": [
        "customers = pd.DataFrame({'Year':['2015','2016','2017'],\n",
        "                          'Total':[len(customers_2015_unique),len(customers_2016_unique),len(customers_2017_unique)],\n",
        "                          'Revenue':[customers_2015.net_revenue.sum(),customers_2016.net_revenue.sum(),customers_2017.net_revenue.sum()],\n",
        "                          'Revenue_Loss_from_Attrition':[customers_2015.net_revenue.sum(),loss_customers_1.net_revenue.sum(),loss_customers_2.net_revenue.sum()],\n",
        "                          'Existing_Customers_Revenue' : [customers_2015.net_revenue.sum(),existing_customers_2016.net_revenue.sum(),existing_customers_2017.net_revenue.sum()],\n",
        "                          'New_Customer_Revenue':[customers_2015.net_revenue.sum(),new_customers_2016.net_revenue.sum(),new_customers_2017.net_revenue.sum()],\n",
        "                          'Existing_Customers': [len(customers_2015_unique),len(existing_customers1),len(existing_customers2)],\n",
        "                          'New_Customers':[len(customers_2015_unique),len(new_customers1),len(new_customers2)],\n",
        "                          'Lost_Customers':[len(customers_2015_unique),len(loss_2015_2016),len(loss_2016_2017)]})\n",
        "customers.head()"
      ],
      "metadata": {
        "colab": {
          "base_uri": "https://localhost:8080/",
          "height": 143
        },
        "id": "fYR5gLHetcui",
        "outputId": "9a84f0d1-10f7-43a3-d186-787ad4413cb6"
      },
      "execution_count": 318,
      "outputs": [
        {
          "output_type": "execute_result",
          "data": {
            "text/plain": [
              "   Year   Total      Revenue  Revenue_Loss_from_Attrition  \\\n",
              "0  2015  231294  29036749.19                  29036749.19   \n",
              "1  2016  204646  25730943.59                  21571632.07   \n",
              "2  2017  249987  31417495.03                  23110294.94   \n",
              "\n",
              "   Existing_Customers_Revenue  New_Customer_Revenue  Existing_Customers  \\\n",
              "0                 29036749.19           29036749.19              231294   \n",
              "1                  7485452.58           18245491.01               59584   \n",
              "2                  2641259.99           28776235.04               20959   \n",
              "\n",
              "   New_Customers  Lost_Customers  \n",
              "0         231294          231294  \n",
              "1         145062          171710  \n",
              "2         229028          183687  "
            ],
            "text/html": [
              "\n",
              "  <div id=\"df-94477d68-af98-4014-9437-55c7364546d8\">\n",
              "    <div class=\"colab-df-container\">\n",
              "      <div>\n",
              "<style scoped>\n",
              "    .dataframe tbody tr th:only-of-type {\n",
              "        vertical-align: middle;\n",
              "    }\n",
              "\n",
              "    .dataframe tbody tr th {\n",
              "        vertical-align: top;\n",
              "    }\n",
              "\n",
              "    .dataframe thead th {\n",
              "        text-align: right;\n",
              "    }\n",
              "</style>\n",
              "<table border=\"1\" class=\"dataframe\">\n",
              "  <thead>\n",
              "    <tr style=\"text-align: right;\">\n",
              "      <th></th>\n",
              "      <th>Year</th>\n",
              "      <th>Total</th>\n",
              "      <th>Revenue</th>\n",
              "      <th>Revenue_Loss_from_Attrition</th>\n",
              "      <th>Existing_Customers_Revenue</th>\n",
              "      <th>New_Customer_Revenue</th>\n",
              "      <th>Existing_Customers</th>\n",
              "      <th>New_Customers</th>\n",
              "      <th>Lost_Customers</th>\n",
              "    </tr>\n",
              "  </thead>\n",
              "  <tbody>\n",
              "    <tr>\n",
              "      <th>0</th>\n",
              "      <td>2015</td>\n",
              "      <td>231294</td>\n",
              "      <td>29036749.19</td>\n",
              "      <td>29036749.19</td>\n",
              "      <td>29036749.19</td>\n",
              "      <td>29036749.19</td>\n",
              "      <td>231294</td>\n",
              "      <td>231294</td>\n",
              "      <td>231294</td>\n",
              "    </tr>\n",
              "    <tr>\n",
              "      <th>1</th>\n",
              "      <td>2016</td>\n",
              "      <td>204646</td>\n",
              "      <td>25730943.59</td>\n",
              "      <td>21571632.07</td>\n",
              "      <td>7485452.58</td>\n",
              "      <td>18245491.01</td>\n",
              "      <td>59584</td>\n",
              "      <td>145062</td>\n",
              "      <td>171710</td>\n",
              "    </tr>\n",
              "    <tr>\n",
              "      <th>2</th>\n",
              "      <td>2017</td>\n",
              "      <td>249987</td>\n",
              "      <td>31417495.03</td>\n",
              "      <td>23110294.94</td>\n",
              "      <td>2641259.99</td>\n",
              "      <td>28776235.04</td>\n",
              "      <td>20959</td>\n",
              "      <td>229028</td>\n",
              "      <td>183687</td>\n",
              "    </tr>\n",
              "  </tbody>\n",
              "</table>\n",
              "</div>\n",
              "      <button class=\"colab-df-convert\" onclick=\"convertToInteractive('df-94477d68-af98-4014-9437-55c7364546d8')\"\n",
              "              title=\"Convert this dataframe to an interactive table.\"\n",
              "              style=\"display:none;\">\n",
              "        \n",
              "  <svg xmlns=\"http://www.w3.org/2000/svg\" height=\"24px\"viewBox=\"0 0 24 24\"\n",
              "       width=\"24px\">\n",
              "    <path d=\"M0 0h24v24H0V0z\" fill=\"none\"/>\n",
              "    <path d=\"M18.56 5.44l.94 2.06.94-2.06 2.06-.94-2.06-.94-.94-2.06-.94 2.06-2.06.94zm-11 1L8.5 8.5l.94-2.06 2.06-.94-2.06-.94L8.5 2.5l-.94 2.06-2.06.94zm10 10l.94 2.06.94-2.06 2.06-.94-2.06-.94-.94-2.06-.94 2.06-2.06.94z\"/><path d=\"M17.41 7.96l-1.37-1.37c-.4-.4-.92-.59-1.43-.59-.52 0-1.04.2-1.43.59L10.3 9.45l-7.72 7.72c-.78.78-.78 2.05 0 2.83L4 21.41c.39.39.9.59 1.41.59.51 0 1.02-.2 1.41-.59l7.78-7.78 2.81-2.81c.8-.78.8-2.07 0-2.86zM5.41 20L4 18.59l7.72-7.72 1.47 1.35L5.41 20z\"/>\n",
              "  </svg>\n",
              "      </button>\n",
              "      \n",
              "  <style>\n",
              "    .colab-df-container {\n",
              "      display:flex;\n",
              "      flex-wrap:wrap;\n",
              "      gap: 12px;\n",
              "    }\n",
              "\n",
              "    .colab-df-convert {\n",
              "      background-color: #E8F0FE;\n",
              "      border: none;\n",
              "      border-radius: 50%;\n",
              "      cursor: pointer;\n",
              "      display: none;\n",
              "      fill: #1967D2;\n",
              "      height: 32px;\n",
              "      padding: 0 0 0 0;\n",
              "      width: 32px;\n",
              "    }\n",
              "\n",
              "    .colab-df-convert:hover {\n",
              "      background-color: #E2EBFA;\n",
              "      box-shadow: 0px 1px 2px rgba(60, 64, 67, 0.3), 0px 1px 3px 1px rgba(60, 64, 67, 0.15);\n",
              "      fill: #174EA6;\n",
              "    }\n",
              "\n",
              "    [theme=dark] .colab-df-convert {\n",
              "      background-color: #3B4455;\n",
              "      fill: #D2E3FC;\n",
              "    }\n",
              "\n",
              "    [theme=dark] .colab-df-convert:hover {\n",
              "      background-color: #434B5C;\n",
              "      box-shadow: 0px 1px 3px 1px rgba(0, 0, 0, 0.15);\n",
              "      filter: drop-shadow(0px 1px 2px rgba(0, 0, 0, 0.3));\n",
              "      fill: #FFFFFF;\n",
              "    }\n",
              "  </style>\n",
              "\n",
              "      <script>\n",
              "        const buttonEl =\n",
              "          document.querySelector('#df-94477d68-af98-4014-9437-55c7364546d8 button.colab-df-convert');\n",
              "        buttonEl.style.display =\n",
              "          google.colab.kernel.accessAllowed ? 'block' : 'none';\n",
              "\n",
              "        async function convertToInteractive(key) {\n",
              "          const element = document.querySelector('#df-94477d68-af98-4014-9437-55c7364546d8');\n",
              "          const dataTable =\n",
              "            await google.colab.kernel.invokeFunction('convertToInteractive',\n",
              "                                                     [key], {});\n",
              "          if (!dataTable) return;\n",
              "\n",
              "          const docLinkHtml = 'Like what you see? Visit the ' +\n",
              "            '<a target=\"_blank\" href=https://colab.research.google.com/notebooks/data_table.ipynb>data table notebook</a>'\n",
              "            + ' to learn more about interactive tables.';\n",
              "          element.innerHTML = '';\n",
              "          dataTable['output_type'] = 'display_data';\n",
              "          await google.colab.output.renderOutput(dataTable, element);\n",
              "          const docLink = document.createElement('div');\n",
              "          docLink.innerHTML = docLinkHtml;\n",
              "          element.appendChild(docLink);\n",
              "        }\n",
              "      </script>\n",
              "    </div>\n",
              "  </div>\n",
              "  "
            ]
          },
          "metadata": {},
          "execution_count": 318
        }
      ]
    },
    {
      "cell_type": "markdown",
      "source": [
        "**Plot #1** <br>\n",
        "*   Existing Customers decreasing over time.\n",
        "*   Lost customers was more than gained customers in 2016.\n",
        "*   Gained customers was more than lost customers in 2017.\n",
        "\n",
        "\n"
      ],
      "metadata": {
        "id": "eZvVb4EzPwi-"
      }
    },
    {
      "cell_type": "code",
      "source": [
        "plt.figure(figsize=(5, 5))\n",
        "plt.bar(customers.Year,customers.Total, color='cornflowerblue')\n",
        "customers['Lost_Customers'].plot(kind='line', marker='*', color='red', ms=10)\n",
        "customers['Existing_Customers'].plot(kind='line', marker='.', color='yellow', ms=10)\n",
        "customers['New_Customers'].plot(kind='line', marker='o', color='lime', ms=10)\n",
        "plt.ylabel('Number of customers',size=15)\n",
        "plt.xlabel('Years',size=15)\n",
        "plt.title('Number of Customers over the Years',size=15)\n",
        "plt.yticks(size=10)\n",
        "plt.xticks(size=10)\n",
        "plt.legend(loc=\"lower left\")\n",
        "plt.show()"
      ],
      "metadata": {
        "colab": {
          "base_uri": "https://localhost:8080/",
          "height": 357
        },
        "id": "9J0k7kgYvZm4",
        "outputId": "1478e546-2838-4884-f118-f1948e19a6f0"
      },
      "execution_count": 319,
      "outputs": [
        {
          "output_type": "display_data",
          "data": {
            "text/plain": [
              "<Figure size 360x360 with 1 Axes>"
            ],
            "image/png": "[encoded data removed]"
          },
          "metadata": {
            "needs_background": "light"
          }
        }
      ]
    },
    {
      "cell_type": "markdown",
      "source": [
        "**Plot #2** <br>\n",
        " \n",
        "\n",
        "*   Existing Customers Revenue is decreasing over time.\n",
        "*   Lost Revenue was more than gained customers in 2016.\n",
        "*   Gained Revenue was more than lost customers in 2017.\n",
        "\n",
        "\n",
        "\n",
        "\n",
        "\n"
      ],
      "metadata": {
        "id": "dWrRgIYuP4KX"
      }
    },
    {
      "cell_type": "code",
      "source": [
        "plt.figure(figsize=(5, 5))\n",
        "plt.bar(customers.Year,customers.Revenue,color='cornflowerblue')\n",
        "customers['Revenue_Loss_from_Attrition'].plot(kind='line', marker='*', color='red', ms=10)\n",
        "customers['Existing_Customers_Revenue'].plot(kind='line', marker='.', color='yellow', ms=10)\n",
        "customers['New_Customer_Revenue'].plot(kind='line', marker='o', color='lime', ms=10)\n",
        "plt.ylabel('Net Revenue (e+7)',size=15)\n",
        "plt.xlabel('Years',size=15)\n",
        "plt.title('Net Revenue over the Years',size=15)\n",
        "plt.legend(loc=\"lower left\")\n",
        "plt.yticks(size=10)\n",
        "plt.xticks(size=10)\n",
        "plt.show()"
      ],
      "metadata": {
        "colab": {
          "base_uri": "https://localhost:8080/",
          "height": 357
        },
        "id": "qmCqIss0FTQu",
        "outputId": "e4fee5c4-52d9-450a-c8df-569e6fdc8e58"
      },
      "execution_count": 323,
      "outputs": [
        {
          "output_type": "display_data",
          "data": {
            "text/plain": [
              "<Figure size 360x360 with 1 Axes>"
            ],
            "image/png": "[encoded data removed]"
          },
          "metadata": {
            "needs_background": "light"
          }
        }
      ]
    }
  ]
}